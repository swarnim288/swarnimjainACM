{
  "nbformat": 4,
  "nbformat_minor": 0,
  "metadata": {
    "colab": {
      "provenance": [],
      "authorship_tag": "ABX9TyPPBprRiV9VMOnxNt6R90jU",
      "include_colab_link": true
    },
    "kernelspec": {
      "name": "python3",
      "display_name": "Python 3"
    },
    "language_info": {
      "name": "python"
    }
  },
  "cells": [
    {
      "cell_type": "markdown",
      "metadata": {
        "id": "view-in-github",
        "colab_type": "text"
      },
      "source": [
        "<a href=\"https://colab.research.google.com/github/swarnim288/swarnimjainACM/blob/main/q1.ipynb\" target=\"_parent\"><img src=\"https://colab.research.google.com/assets/colab-badge.svg\" alt=\"Open In Colab\"/></a>"
      ]
    },
    {
      "cell_type": "code",
      "execution_count": 5,
      "metadata": {
        "id": "b9ypzNNg60yY"
      },
      "outputs": [],
      "source": [
        "import numpy as np\n",
        "import pandas as pd\n",
        "import matplotlib as mt\n"
      ]
    },
    {
      "cell_type": "markdown",
      "source": [
        "print numpy configuration"
      ],
      "metadata": {
        "id": "dpTotr_D8z4J"
      }
    },
    {
      "cell_type": "code",
      "source": [
        "x=np.show_config()\n",
        "print(x)"
      ],
      "metadata": {
        "colab": {
          "base_uri": "https://localhost:8080/"
        },
        "id": "lGa5R24I8zjR",
        "outputId": "9c0fac38-5749-4104-9e80-7b919553de88"
      },
      "execution_count": 6,
      "outputs": [
        {
          "output_type": "stream",
          "name": "stdout",
          "text": [
            "openblas64__info:\n",
            "    libraries = ['openblas64_', 'openblas64_']\n",
            "    library_dirs = ['/usr/local/lib']\n",
            "    language = c\n",
            "    define_macros = [('HAVE_CBLAS', None), ('BLAS_SYMBOL_SUFFIX', '64_'), ('HAVE_BLAS_ILP64', None)]\n",
            "    runtime_library_dirs = ['/usr/local/lib']\n",
            "blas_ilp64_opt_info:\n",
            "    libraries = ['openblas64_', 'openblas64_']\n",
            "    library_dirs = ['/usr/local/lib']\n",
            "    language = c\n",
            "    define_macros = [('HAVE_CBLAS', None), ('BLAS_SYMBOL_SUFFIX', '64_'), ('HAVE_BLAS_ILP64', None)]\n",
            "    runtime_library_dirs = ['/usr/local/lib']\n",
            "openblas64__lapack_info:\n",
            "    libraries = ['openblas64_', 'openblas64_']\n",
            "    library_dirs = ['/usr/local/lib']\n",
            "    language = c\n",
            "    define_macros = [('HAVE_CBLAS', None), ('BLAS_SYMBOL_SUFFIX', '64_'), ('HAVE_BLAS_ILP64', None), ('HAVE_LAPACKE', None)]\n",
            "    runtime_library_dirs = ['/usr/local/lib']\n",
            "lapack_ilp64_opt_info:\n",
            "    libraries = ['openblas64_', 'openblas64_']\n",
            "    library_dirs = ['/usr/local/lib']\n",
            "    language = c\n",
            "    define_macros = [('HAVE_CBLAS', None), ('BLAS_SYMBOL_SUFFIX', '64_'), ('HAVE_BLAS_ILP64', None), ('HAVE_LAPACKE', None)]\n",
            "    runtime_library_dirs = ['/usr/local/lib']\n",
            "Supported SIMD extensions in this NumPy install:\n",
            "    baseline = SSE,SSE2,SSE3\n",
            "    found = SSSE3,SSE41,POPCNT,SSE42,AVX,F16C,FMA3,AVX2\n",
            "    not found = AVX512F,AVX512CD,AVX512_KNL,AVX512_KNM,AVX512_SKX,AVX512_CLX,AVX512_CNL,AVX512_ICL\n",
            "None\n"
          ]
        }
      ]
    },
    {
      "cell_type": "markdown",
      "source": [
        "initialize a vector containing numbers from 1 to 20\n"
      ],
      "metadata": {
        "id": "TDqk6Db_-cCZ"
      }
    },
    {
      "cell_type": "code",
      "source": [
        "numbers = np.arange(1,21)\n",
        "print(numbers)"
      ],
      "metadata": {
        "colab": {
          "base_uri": "https://localhost:8080/"
        },
        "id": "DzQniQwC95FZ",
        "outputId": "5ec26d4c-9148-43d8-90ab-9065f2d768ab"
      },
      "execution_count": 7,
      "outputs": [
        {
          "output_type": "stream",
          "name": "stdout",
          "text": [
            "[ 1  2  3  4  5  6  7  8  9 10 11 12 13 14 15 16 17 18 19 20]\n"
          ]
        }
      ]
    },
    {
      "cell_type": "markdown",
      "source": [
        "reversing the vector\n"
      ],
      "metadata": {
        "id": "sg3SKyAS_9oY"
      }
    },
    {
      "cell_type": "code",
      "source": [
        "reversed_numbers =np.flip(numbers)\n",
        "print(reversed_numbers)"
      ],
      "metadata": {
        "colab": {
          "base_uri": "https://localhost:8080/"
        },
        "id": "eYo4JqDh__84",
        "outputId": "d1314fd1-9c49-42c5-ce98-d094a77931ce"
      },
      "execution_count": 8,
      "outputs": [
        {
          "output_type": "stream",
          "name": "stdout",
          "text": [
            "[20 19 18 17 16 15 14 13 12 11 10  9  8  7  6  5  4  3  2  1]\n"
          ]
        }
      ]
    },
    {
      "cell_type": "markdown",
      "source": [
        "create a 3*3 array with random values and find the maximum and minimum values"
      ],
      "metadata": {
        "id": "LAAmIEkmANOX"
      }
    },
    {
      "cell_type": "code",
      "source": [
        "array=np.random.randint(0,100,size=(3,3))\n",
        "print(array)\n",
        "min=array.min()\n",
        "max=array.max()\n",
        "print(f\"maximum value is {max}\")\n",
        "print(f\"minimum value is {min}\")\n"
      ],
      "metadata": {
        "colab": {
          "base_uri": "https://localhost:8080/"
        },
        "id": "10q91j5fBzWY",
        "outputId": "77d406fb-b6ec-4bd8-8986-b6993f252171"
      },
      "execution_count": 9,
      "outputs": [
        {
          "output_type": "stream",
          "name": "stdout",
          "text": [
            "[[19 90 85]\n",
            " [89 79 92]\n",
            " [32 16 99]]\n",
            "maximum value is 99\n",
            "minimum value is 16\n"
          ]
        }
      ]
    },
    {
      "cell_type": "markdown",
      "source": [
        "(5,5,8) array and its 100th element"
      ],
      "metadata": {
        "id": "63vxQWPERhbj"
      }
    },
    {
      "cell_type": "code",
      "source": [
        "index=np.unravel_index(100,(5,5,8))\n",
        "print(f\"\\n index of 100th element{index}\")"
      ],
      "metadata": {
        "colab": {
          "base_uri": "https://localhost:8080/"
        },
        "id": "g0c05kuGRtQu",
        "outputId": "c4d91e6c-8111-4e4c-cff6-6e93d9d51008"
      },
      "execution_count": 14,
      "outputs": [
        {
          "output_type": "stream",
          "name": "stdout",
          "text": [
            "\n",
            " index of 100th element(2, 2, 4)\n"
          ]
        }
      ]
    },
    {
      "cell_type": "markdown",
      "source": [
        "finding common values between two arrays"
      ],
      "metadata": {
        "id": "jWzqm2s0Su18"
      }
    },
    {
      "cell_type": "code",
      "source": [
        "#declare two arrays\n",
        "array1=np.array([1,2,3,4,5])\n",
        "array2=np.array([3,4,5,6,7,8,9])\n",
        "common_values=np.intersect1d(array1,array2)\n",
        "print(f\"commmon values are{common_values}\")"
      ],
      "metadata": {
        "colab": {
          "base_uri": "https://localhost:8080/"
        },
        "id": "KGla5JC1SowE",
        "outputId": "8a0978d4-bfdd-484d-db8b-e5715bf4f25e"
      },
      "execution_count": 10,
      "outputs": [
        {
          "output_type": "stream",
          "name": "stdout",
          "text": [
            "commmon values are[3 4 5]\n"
          ]
        }
      ]
    },
    {
      "cell_type": "markdown",
      "source": [
        "to find the common element of 2d or 3d arrays we first need to flatten the arrays usingflatten() attribute"
      ],
      "metadata": {
        "id": "-NSvyOl-VV1N"
      }
    },
    {
      "cell_type": "markdown",
      "source": [
        "consider a random 10*2 matrix representing cartresian coordinates and converting them to polar  coordinates"
      ],
      "metadata": {
        "id": "PyXM3yOqd8hj"
      }
    },
    {
      "cell_type": "code",
      "source": [
        "cartesian = np.random.rand(10,2)\n",
        "x=cartesian[:,0]\n",
        "y=cartesian[:,1]\n",
        "radius=np.sqrt(x**2 + y**2)\n",
        "angle_radians=np.arctan2(y,x)\n",
        "angle_degrees=np.degrees(angle_radians)\n",
        "polar=np.column_stack((radius,angle_degrees))\n",
        "print(f\"cartesian coordinates is {cartesian}\")\n",
        "print(f\"\\n  polar coordinatesian {polar}\")"
      ],
      "metadata": {
        "colab": {
          "base_uri": "https://localhost:8080/"
        },
        "id": "gFz6OzBXVhEo",
        "outputId": "f9936b38-d568-4424-f89f-d58f14d4ca5b"
      },
      "execution_count": 13,
      "outputs": [
        {
          "output_type": "stream",
          "name": "stdout",
          "text": [
            "cartesian coordinates is [[0.27809347 0.41554177]\n",
            " [0.62325116 0.59268774]\n",
            " [0.04152188 0.48656132]\n",
            " [0.10307827 0.25844808]\n",
            " [0.41435635 0.19678291]\n",
            " [0.27343774 0.24821962]\n",
            " [0.96787616 0.82640777]\n",
            " [0.09731208 0.82015867]\n",
            " [0.98341435 0.59724639]\n",
            " [0.284707   0.26547902]]\n",
            "\n",
            "  polar coordinatesian [[ 0.50001094 56.20833119]\n",
            " [ 0.86007021 43.56013632]\n",
            " [ 0.48832979 85.12234425]\n",
            " [ 0.27824547 68.25613055]\n",
            " [ 0.45870982 25.40361551]\n",
            " [ 0.36929822 42.23234454]\n",
            " [ 1.27268773 40.4919019 ]\n",
            " [ 0.82591155 83.23347241]\n",
            " [ 1.15056813 31.27111243]\n",
            " [ 0.38927778 42.99843312]]\n"
          ]
        }
      ]
    },
    {
      "cell_type": "markdown",
      "source": [
        "demonstration of printing all values of array"
      ],
      "metadata": {
        "id": "t5WVWk49iRVb"
      }
    },
    {
      "cell_type": "code",
      "source": [
        "arrayq=np.array([[1,2,3],[4,5,6],[7,8,9]])\n",
        "rows, cols = arrayq.shape\n",
        "for i in range(rows):\n",
        "  for j in range(cols):\n",
        "    print(arrayq[i,j])"
      ],
      "metadata": {
        "colab": {
          "base_uri": "https://localhost:8080/"
        },
        "id": "Yt8Xq5fvhx1F",
        "outputId": "4f20e830-e2e8-4b43-d249-fa12ec3654a5"
      },
      "execution_count": 12,
      "outputs": [
        {
          "output_type": "stream",
          "name": "stdout",
          "text": [
            "1\n",
            "2\n",
            "3\n",
            "4\n",
            "5\n",
            "6\n",
            "7\n",
            "8\n",
            "9\n"
          ]
        }
      ]
    },
    {
      "cell_type": "markdown",
      "source": [
        "coverting float array into integer array"
      ],
      "metadata": {
        "id": "9Qm4RIGuj6V9"
      }
    },
    {
      "cell_type": "code",
      "source": [
        "float_array=np.array([1.1,2.2,3.3,44.4], dtype=np.float32)\n",
        "int_array=float_array.view(dtype=np.int32)\n",
        "print(\"converted integer arrayis\")\n",
        "print(int_array)"
      ],
      "metadata": {
        "colab": {
          "base_uri": "https://localhost:8080/"
        },
        "id": "WwfrGcQckBwy",
        "outputId": "e206bf28-e35b-4fa7-f1a1-be613c846041"
      },
      "execution_count": 15,
      "outputs": [
        {
          "output_type": "stream",
          "name": "stdout",
          "text": [
            "converted integer arrayis\n",
            "[1066192077 1074580685 1079194419 1110546842]\n"
          ]
        }
      ]
    }
  ]
}